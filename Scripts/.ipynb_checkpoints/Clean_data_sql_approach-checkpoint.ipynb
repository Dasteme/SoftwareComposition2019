{
 "cells": [
  {
   "cell_type": "code",
   "execution_count": 2,
   "metadata": {},
   "outputs": [
    {
     "name": "stdout",
     "output_type": "stream",
     "text": [
      "Now cleaning table:2des\n",
      "349\n",
      "Durchgang: 0\n",
      "('UPDATE `2des` SET body_question=\\'Every method I write to encode a string in Java using 3DES can\\\\t be decrypted back to the original string.  Does anyone have a simple code snippet that can just encode and then decode the string back to the original string?\\\\n\\\\nI know I\\\\m making a very silly mistake somewhere in this code. Here\\\\s what I\\\\ve been working with so far:\\\\n\\\\n** note, I am not returning the BASE64 text from the encrypt method, and I am not base64 un-encoding in the decrypt method because I was trying to see if I was making a mistake in the BASE64 part of the puzzle.\\\\n\\\\npublic class TripleDESTest {\\\\n\\\\n    public static void main(String[] args) {\\\\n\\\\n        String text = \"kyle boon\";\\\\n\\\\n        byte[] codedtext = new TripleDESTest().encrypt(text);\\\\n        String decodedtext  = new TripleDESTest().decrypt(codedtext);\\\\n\\\\n        System.out.println(codedtext);\\\\n        System.out.println(decodedtext);\\\\n    }\\\\n\\\\n    public byte[] encrypt(String message) {\\\\n        try {\\\\n            final MessageDigest md = MessageDigest.getInstance(\"md5\");\\\\n            final byte[] digestOfPassword = md.digest(\"HG58YZ3CR9\".getBytes(\"utf-8\"));\\\\n            final byte[] keyBytes = Arrays.copyOf(digestOfPassword, 24);\\\\n            for (int j = 0,  k = 16; j < 8;)\\\\n            {\\\\n                keyBytes[k++] = keyBytes[j++];\\\\n            }\\\\n\\\\n            final SecretKey key = new SecretKeySpec(keyBytes, \"DESede\");\\\\n            final IvParameterSpec iv = new IvParameterSpec(new byte[8]);\\\\n            final Cipher cipher = Cipher.getInstance(\"DESede/CBC/PKCS5Padding\");\\\\n            cipher.init(Cipher.ENCRYPT_MODE, key, iv);\\\\n\\\\n            final byte[] plainTextBytes = message.getBytes(\"utf-8\");\\\\n            final byte[] cipherText = cipher.doFinal(plainTextBytes);\\\\n            final String encodedCipherText = new sun.misc.BASE64Encoder().encode(cipherText);\\\\n\\\\n            return cipherText;    \\\\n        }\\\\n        catch (java.security.InvalidAlgorithmParameterException e) { System.out.println(\"Invalid Algorithm\"); }\\\\n        catch (javax.crypto.NoSuchPaddingException e) { System.out.println(\"No Such Padding\"); }\\\\n        catch (java.security.NoSuchAlgorithmException e) { System.out.println(\"No Such Algorithm\"); }\\\\n        catch (java.security.InvalidKeyException e) { System.out.println(\"Invalid Key\"); }\\\\n        catch (BadPaddingException e) { System.out.println(\"Invalid Key\");}\\\\n        catch (IllegalBlockSizeException e) { System.out.println(\"Invalid Key\");}\\\\n        catch (UnsupportedEncodingException e) { System.out.println(\"Invalid Key\");}\\\\n\\\\n        return null;\\\\n    }\\\\n\\\\n    public String decrypt(byte[] message) {\\\\n        try\\\\n        {\\\\n            final MessageDigest md = MessageDigest.getInstance(\"md5\");\\\\n            final byte[] digestOfPassword = md.digest(\"HG58YZ3CR9\".getBytes(\"utf-8\"));\\\\n            final byte[] keyBytes = Arrays.copyOf(digestOfPassword, 24);\\\\n            for (int j = 0,  k = 16; j < 8;)\\\\n            {\\\\n                keyBytes[k++] = keyBytes[j++];\\\\n            }\\\\n\\\\n            final SecretKey key = new SecretKeySpec(keyBytes, \"DESede\");\\\\n            final IvParameterSpec iv = new IvParameterSpec(new byte[8]);\\\\n            final Cipher decipher = Cipher.getInstance(\"DESede/CBC/PKCS5Padding\");\\\\n            decipher.init(Cipher.DECRYPT_MODE, key, iv);\\\\n\\\\n            //final byte[] encData = new sun.misc.BASE64Decoder().decodeBuffer(message);\\\\n            final byte[] plainText = decipher.doFinal(message);\\\\n\\\\n            return plainText.toString();            \\\\n        }\\\\n        catch (java.security.InvalidAlgorithmParameterException e) { System.out.println(\"Invalid Algorithm\"); }\\\\n        catch (javax.crypto.NoSuchPaddingException e) { System.out.println(\"No Such Padding\"); }\\\\n        catch (java.security.NoSuchAlgorithmException e) { System.out.println(\"No Such Algorithm\"); }\\\\n        catch (java.security.InvalidKeyException e) { System.out.println(\"Invalid Key\"); }\\\\n        catch (BadPaddingException e) { System.out.println(\"Invalid Key\");}\\\\n        catch (IllegalBlockSizeException e) { System.out.println(\"Invalid Key\");}\\\\n        catch (UnsupportedEncodingException e) { System.out.println(\"Invalid Key\");}     \\\\n        catch (IOException e) {\\\\n            // TODO Auto-generated catch block\\\\n            e.printStackTrace();\\\\n        }\\\\n\\\\n        return null;\\\\n    }\\\\n}\\\\n\\\\n\\' LIMIT 1', 1)\n"
     ]
    },
    {
     "ename": "OperationalError",
     "evalue": "2055: Lost connection to MySQL server at 'localhost:3306', system error: Connection not available.",
     "output_type": "error",
     "traceback": [
      "\u001b[1;31m---------------------------------------------------------------------------\u001b[0m",
      "\u001b[1;31mAttributeError\u001b[0m                            Traceback (most recent call last)",
      "\u001b[1;32mC:\\Programme_NoAdmin\\Anaconda3\\lib\\site-packages\\mysql\\connector\\connection_cext.py\u001b[0m in \u001b[0;36mcmd_query\u001b[1;34m(self, query, raw, buffered, raw_as_string)\u001b[0m\n\u001b[0;32m    468\u001b[0m             \u001b[1;32mif\u001b[0m \u001b[1;32mnot\u001b[0m \u001b[0misinstance\u001b[0m\u001b[1;33m(\u001b[0m\u001b[0mquery\u001b[0m\u001b[1;33m,\u001b[0m \u001b[0mbytes\u001b[0m\u001b[1;33m)\u001b[0m\u001b[1;33m:\u001b[0m\u001b[1;33m\u001b[0m\u001b[1;33m\u001b[0m\u001b[0m\n\u001b[1;32m--> 469\u001b[1;33m                 \u001b[0mquery\u001b[0m \u001b[1;33m=\u001b[0m \u001b[0mquery\u001b[0m\u001b[1;33m.\u001b[0m\u001b[0mencode\u001b[0m\u001b[1;33m(\u001b[0m\u001b[1;34m'utf-8'\u001b[0m\u001b[1;33m)\u001b[0m\u001b[1;33m\u001b[0m\u001b[1;33m\u001b[0m\u001b[0m\n\u001b[0m\u001b[0;32m    470\u001b[0m             self._cmysql.query(query,\n",
      "\u001b[1;31mAttributeError\u001b[0m: 'tuple' object has no attribute 'encode'",
      "\nDuring handling of the above exception, another exception occurred:\n",
      "\u001b[1;31mOperationalError\u001b[0m                          Traceback (most recent call last)",
      "\u001b[1;32m<ipython-input-2-f9abffa32d72>\u001b[0m in \u001b[0;36m<module>\u001b[1;34m\u001b[0m\n\u001b[0;32m     40\u001b[0m \u001b[0mrecords\u001b[0m \u001b[1;33m=\u001b[0m \u001b[0mcursor\u001b[0m\u001b[1;33m.\u001b[0m\u001b[0mfetchall\u001b[0m\u001b[1;33m(\u001b[0m\u001b[1;33m)\u001b[0m\u001b[1;33m;\u001b[0m\u001b[1;33m\u001b[0m\u001b[1;33m\u001b[0m\u001b[0m\n\u001b[0;32m     41\u001b[0m \u001b[1;32mfor\u001b[0m \u001b[0mr\u001b[0m \u001b[1;32min\u001b[0m \u001b[0mrecords\u001b[0m\u001b[1;33m:\u001b[0m\u001b[1;33m\u001b[0m\u001b[1;33m\u001b[0m\u001b[0m\n\u001b[1;32m---> 42\u001b[1;33m     \u001b[0mclean_table\u001b[0m\u001b[1;33m(\u001b[0m\u001b[0mstr\u001b[0m\u001b[1;33m(\u001b[0m\u001b[0mr\u001b[0m\u001b[1;33m)\u001b[0m\u001b[1;33m[\u001b[0m\u001b[1;36m2\u001b[0m\u001b[1;33m:\u001b[0m\u001b[1;33m-\u001b[0m\u001b[1;36m3\u001b[0m\u001b[1;33m]\u001b[0m\u001b[1;33m)\u001b[0m\u001b[1;33m\u001b[0m\u001b[1;33m\u001b[0m\u001b[0m\n\u001b[0m\u001b[0;32m     43\u001b[0m     \u001b[1;32mbreak\u001b[0m\u001b[1;33m;\u001b[0m\u001b[1;33m\u001b[0m\u001b[1;33m\u001b[0m\u001b[0m\n\u001b[0;32m     44\u001b[0m \u001b[1;33m\u001b[0m\u001b[0m\n",
      "\u001b[1;32m<ipython-input-2-f9abffa32d72>\u001b[0m in \u001b[0;36mclean_table\u001b[1;34m(table_name)\u001b[0m\n\u001b[0;32m     28\u001b[0m         \u001b[0msql_query_clean1\u001b[0m \u001b[1;33m=\u001b[0m \u001b[1;34m\"UPDATE `\"\u001b[0m \u001b[1;33m+\u001b[0m \u001b[0mtable_name\u001b[0m \u001b[1;33m+\u001b[0m \u001b[1;34m\"` SET body_question='\"\u001b[0m \u001b[1;33m+\u001b[0m \u001b[0msoup\u001b[0m\u001b[1;33m.\u001b[0m\u001b[0mget_text\u001b[0m\u001b[1;33m(\u001b[0m\u001b[1;33m)\u001b[0m\u001b[1;33m.\u001b[0m\u001b[0mreplace\u001b[0m\u001b[1;33m(\u001b[0m\u001b[1;34m\"'\"\u001b[0m\u001b[1;33m,\u001b[0m \u001b[1;34m\"\"\u001b[0m\u001b[1;33m)\u001b[0m \u001b[1;33m+\u001b[0m \u001b[1;34m\"' LIMIT \"\u001b[0m \u001b[1;33m+\u001b[0m \u001b[0mstr\u001b[0m\u001b[1;33m(\u001b[0m\u001b[0mi\u001b[0m\u001b[1;33m+\u001b[0m\u001b[1;36m1\u001b[0m\u001b[1;33m)\u001b[0m\u001b[1;33m,\u001b[0m\u001b[1;36m1\u001b[0m\u001b[1;33m\u001b[0m\u001b[1;33m\u001b[0m\u001b[0m\n\u001b[0;32m     29\u001b[0m         \u001b[0mprint\u001b[0m \u001b[1;33m(\u001b[0m\u001b[0msql_query_clean1\u001b[0m\u001b[1;33m)\u001b[0m\u001b[1;33m\u001b[0m\u001b[1;33m\u001b[0m\u001b[0m\n\u001b[1;32m---> 30\u001b[1;33m         \u001b[0mcursor\u001b[0m\u001b[1;33m.\u001b[0m\u001b[0mexecute\u001b[0m\u001b[1;33m(\u001b[0m\u001b[0msql_query_clean1\u001b[0m\u001b[1;33m)\u001b[0m\u001b[1;33m;\u001b[0m\u001b[1;33m\u001b[0m\u001b[1;33m\u001b[0m\u001b[0m\n\u001b[0m\u001b[0;32m     31\u001b[0m \u001b[1;33m\u001b[0m\u001b[0m\n\u001b[0;32m     32\u001b[0m \u001b[1;33m\u001b[0m\u001b[0m\n",
      "\u001b[1;32mC:\\Programme_NoAdmin\\Anaconda3\\lib\\site-packages\\mysql\\connector\\cursor_cext.py\u001b[0m in \u001b[0;36mexecute\u001b[1;34m(self, operation, params, multi)\u001b[0m\n\u001b[0;32m    264\u001b[0m             result = self._cnx.cmd_query(stmt, raw=self._raw,\n\u001b[0;32m    265\u001b[0m                                          \u001b[0mbuffered\u001b[0m\u001b[1;33m=\u001b[0m\u001b[0mself\u001b[0m\u001b[1;33m.\u001b[0m\u001b[0m_buffered\u001b[0m\u001b[1;33m,\u001b[0m\u001b[1;33m\u001b[0m\u001b[1;33m\u001b[0m\u001b[0m\n\u001b[1;32m--> 266\u001b[1;33m                                          raw_as_string=self._raw_as_string)\n\u001b[0m\u001b[0;32m    267\u001b[0m         \u001b[1;32mexcept\u001b[0m \u001b[0mMySQLInterfaceError\u001b[0m \u001b[1;32mas\u001b[0m \u001b[0mexc\u001b[0m\u001b[1;33m:\u001b[0m\u001b[1;33m\u001b[0m\u001b[1;33m\u001b[0m\u001b[0m\n\u001b[0;32m    268\u001b[0m             raise errors.get_mysql_exception(msg=exc.msg, errno=exc.errno,\n",
      "\u001b[1;32mC:\\Programme_NoAdmin\\Anaconda3\\lib\\site-packages\\mysql\\connector\\connection_cext.py\u001b[0m in \u001b[0;36mcmd_query\u001b[1;34m(self, query, raw, buffered, raw_as_string)\u001b[0m\n\u001b[0;32m    480\u001b[0m                 \u001b[0maddr\u001b[0m \u001b[1;33m=\u001b[0m \u001b[0mself\u001b[0m\u001b[1;33m.\u001b[0m\u001b[0m_host\u001b[0m \u001b[1;33m+\u001b[0m \u001b[1;34m':'\u001b[0m \u001b[1;33m+\u001b[0m \u001b[0mstr\u001b[0m\u001b[1;33m(\u001b[0m\u001b[0mself\u001b[0m\u001b[1;33m.\u001b[0m\u001b[0m_port\u001b[0m\u001b[1;33m)\u001b[0m\u001b[1;33m\u001b[0m\u001b[1;33m\u001b[0m\u001b[0m\n\u001b[0;32m    481\u001b[0m             raise errors.OperationalError(\n\u001b[1;32m--> 482\u001b[1;33m                 errno=2055, values=(addr, 'Connection not available.'))\n\u001b[0m\u001b[0;32m    483\u001b[0m \u001b[1;33m\u001b[0m\u001b[0m\n\u001b[0;32m    484\u001b[0m         \u001b[0mself\u001b[0m\u001b[1;33m.\u001b[0m\u001b[0m_columns\u001b[0m \u001b[1;33m=\u001b[0m \u001b[1;33m[\u001b[0m\u001b[1;33m]\u001b[0m\u001b[1;33m\u001b[0m\u001b[1;33m\u001b[0m\u001b[0m\n",
      "\u001b[1;31mOperationalError\u001b[0m: 2055: Lost connection to MySQL server at 'localhost:3306', system error: Connection not available."
     ]
    }
   ],
   "source": [
    "import mysql.connector\n",
    "import matplotlib.pyplot as plt\n",
    "import matplotlib.patches as patches\n",
    "import numpy as np\n",
    "from bs4 import BeautifulSoup\n",
    "\n",
    "mydb = mysql.connector.connect(\n",
    "  host=\"localhost\",\n",
    "  user=\"root\",\n",
    "  passwd=\"\",\n",
    "  database='software_comp_autotags'\n",
    ")\n",
    "\n",
    "cursor = mydb.cursor()\n",
    "\n",
    "\n",
    "def clean_table(table_name):\n",
    "    print(\"Now cleaning table:\" + table_name)\n",
    "    sql_query_count = \"SELECT COUNT(*) FROM `\" + table_name + \"`\"\n",
    "    cursor.execute(sql_query_count);\n",
    "    count = int(str(cursor.fetchall())[2:-3])\n",
    "    print (count)\n",
    "    for i in range(count):\n",
    "        print (\"Durchgang: \" + str(i))\n",
    "        sql_query_get = \"SELECT body_question from `\" + table_name + \"` LIMIT \" + str(i) + \",1\"\n",
    "        cursor.execute(sql_query_get);\n",
    "        soup = BeautifulSoup(str(cursor.fetchall())[3:-4], 'html.parser')\n",
    "        sql_query_clean1 = \"UPDATE `\" + table_name + \"` SET body_question='\" + soup.get_text().replace(\"'\", \"\") + \"' LIMIT \" + str(i+1) + \",1\"\n",
    "        print (sql_query_clean1)\n",
    "        cursor.execute(sql_query_clean1);\n",
    "    \n",
    "\n",
    "\n",
    "\n",
    "\n",
    "\n",
    "\n",
    "sql_query = \"SELECT table_name FROM information_schema.tables WHERE table_schema = 'software_comp_autotags'\"\n",
    "cursor.execute(sql_query);\n",
    "records = cursor.fetchall();\n",
    "for r in records:\n",
    "    clean_table(str(r)[2:-3])\n",
    "    break;\n",
    "\n",
    "mydb.commit()\n",
    "\n",
    "#soup = BeautifulSoup(\"<html>my_text</html>\", 'html.parser')\n",
    "\n",
    "#print (soup.get_text())\n"
   ]
  },
  {
   "cell_type": "code",
   "execution_count": null,
   "metadata": {},
   "outputs": [],
   "source": []
  },
  {
   "cell_type": "code",
   "execution_count": null,
   "metadata": {},
   "outputs": [],
   "source": []
  }
 ],
 "metadata": {
  "kernelspec": {
   "display_name": "Python 3",
   "language": "python",
   "name": "python3"
  },
  "language_info": {
   "codemirror_mode": {
    "name": "ipython",
    "version": 3
   },
   "file_extension": ".py",
   "mimetype": "text/x-python",
   "name": "python",
   "nbconvert_exporter": "python",
   "pygments_lexer": "ipython3",
   "version": "3.7.4"
  }
 },
 "nbformat": 4,
 "nbformat_minor": 2
}
