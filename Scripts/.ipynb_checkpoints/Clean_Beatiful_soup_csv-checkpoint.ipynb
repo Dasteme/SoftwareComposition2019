{
 "cells": [
  {
   "cell_type": "code",
   "execution_count": 56,
   "metadata": {
    "scrolled": false
   },
   "outputs": [
    {
     "name": "stdout",
     "output_type": "stream",
     "text": [
      "D:/Uni Bern/7. Semester/Software Composition/Github/SoftwareComposition2019/Stackoverflow_subposts/CRYPTOMAIN.csv\n",
      "finished\n"
     ]
    }
   ],
   "source": [
    "import numpy as np\n",
    "import glob\n",
    "import os\n",
    "from bs4 import BeautifulSoup\n",
    "import csv\n",
    "\n",
    "\n",
    "csvs = glob.glob(\"D:/Uni Bern/7. Semester/Software Composition/Github/SoftwareComposition2019/Stackoverflow_subposts/*.csv\")\n",
    "\n",
    "for c in csvs:\n",
    "    file = c.replace('\\\\', '/', 1)\n",
    "    newfile = c.replace('Stackoverflow_subposts', 'Stackoverflow_subposts_cleaned', 1)\n",
    "    \n",
    "    print (file)\n",
    "    '''\n",
    "    text = f.read()\n",
    "    f.close()\n",
    "    #print (text)\n",
    "    soup = BeautifulSoup(text, 'html.parser')\n",
    "    \n",
    "    \n",
    "    fnew = open(newfile, \"w\", encoding='utf8')\n",
    "    fnew.write(soup.get_text())\n",
    "    fnew.close()\n",
    "    '''\n",
    "    \n",
    "    \n",
    "    \n",
    "    \n",
    "    # Create the new file\n",
    "    fnew = open(newfile, \"w\", encoding='utf8')\n",
    "    fnew.write(\"\")\n",
    "    fnew.close()\n",
    "    \n",
    "    # Open old file and read it\n",
    "    f = open(file, encoding='utf8')\n",
    "    csvreader = csv.reader(f, delimiter=',', quotechar=\"\\\"\", quoting=csv.QUOTE_ALL)\n",
    "    \n",
    "    \n",
    "    # Open new file with append mode\n",
    "    fnew = open(newfile, \"a\", encoding='utf8')\n",
    "    \n",
    "    i = 0\n",
    "    for row in csvreader:\n",
    "        if i > 0:\n",
    "            row = [\"\\\"\" + rowind.replace(\"\\\"\", \"\\\"\\\"\") + \"\\\"\" for rowind in row]\n",
    "        row[2] = BeautifulSoup(row[2], 'html.parser').get_text()\n",
    "        row[3] = BeautifulSoup(row[3], 'html.parser').get_text()\n",
    "        #row[2] = \"\"\n",
    "        #row[3] = \"\"\n",
    "        fnew.write(','.join(row))\n",
    "        fnew.write(\"\\n\")\n",
    "        i = i+1\n",
    "        \n",
    "    \n",
    "    fnew.close()\n",
    "\n",
    "print('finished')\n"
   ]
  },
  {
   "cell_type": "code",
   "execution_count": null,
   "metadata": {},
   "outputs": [],
   "source": []
  },
  {
   "cell_type": "code",
   "execution_count": null,
   "metadata": {},
   "outputs": [],
   "source": []
  }
 ],
 "metadata": {
  "kernelspec": {
   "display_name": "Python 3",
   "language": "python",
   "name": "python3"
  },
  "language_info": {
   "codemirror_mode": {
    "name": "ipython",
    "version": 3
   },
   "file_extension": ".py",
   "mimetype": "text/x-python",
   "name": "python",
   "nbconvert_exporter": "python",
   "pygments_lexer": "ipython3",
   "version": "3.7.4"
  }
 },
 "nbformat": 4,
 "nbformat_minor": 2
}
