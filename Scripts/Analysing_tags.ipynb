{
 "cells": [
  {
   "cell_type": "code",
   "execution_count": 1,
   "metadata": {},
   "outputs": [
    {
     "ename": "ModuleNotFoundError",
     "evalue": "No module named 'mysql'",
     "output_type": "error",
     "traceback": [
      "\u001b[1;31m---------------------------------------------------------------------------\u001b[0m",
      "\u001b[1;31mModuleNotFoundError\u001b[0m                       Traceback (most recent call last)",
      "\u001b[1;32m<ipython-input-1-4fa6e97da62c>\u001b[0m in \u001b[0;36m<module>\u001b[1;34m\u001b[0m\n\u001b[1;32m----> 1\u001b[1;33m \u001b[1;32mimport\u001b[0m \u001b[0mmysql\u001b[0m\u001b[1;33m.\u001b[0m\u001b[0mconnector\u001b[0m\u001b[1;33m\u001b[0m\u001b[1;33m\u001b[0m\u001b[0m\n\u001b[0m\u001b[0;32m      2\u001b[0m \u001b[1;33m\u001b[0m\u001b[0m\n\u001b[0;32m      3\u001b[0m mydb = mysql.connector.connect(\n\u001b[0;32m      4\u001b[0m   \u001b[0mhost\u001b[0m\u001b[1;33m=\u001b[0m\u001b[1;34m\"localhost\"\u001b[0m\u001b[1;33m,\u001b[0m\u001b[1;33m\u001b[0m\u001b[1;33m\u001b[0m\u001b[0m\n\u001b[0;32m      5\u001b[0m   \u001b[0muser\u001b[0m\u001b[1;33m=\u001b[0m\u001b[1;34m\"root\"\u001b[0m\u001b[1;33m,\u001b[0m\u001b[1;33m\u001b[0m\u001b[1;33m\u001b[0m\u001b[0m\n",
      "\u001b[1;31mModuleNotFoundError\u001b[0m: No module named 'mysql'"
     ]
    }
   ],
   "source": [
    "import mysql.connector\n",
    "\n",
    "mydb = mysql.connector.connect(\n",
    "  host=\"localhost\",\n",
    "  user=\"root\",\n",
    "  passwd=\"\",\n",
    "  database='software_composition'\n",
    ")\n",
    "\n",
    "#print(mydb)\n",
    "\n",
    "\n",
    "def insert_column(cursor, name):\n",
    "    sql_query = \"ALTER TABLE tags ADD \" + name + \" DECIMAL(10,9)\"\n",
    "    #cursor.execute(sql_query);\n",
    "    \n",
    "def change_row_h1_h2(tagid, h1, h2):\n",
    "    sql_query = \"UPDATE tags SET H1='\" + str(h1) + \"', h2='\" + str(h2) + \"' WHERE id=\" + str(tagid)\n",
    "    #cursor.execute(sql_query);\n",
    "    print(sql_query)\n",
    "\n",
    "\n",
    "cursor = mydb.cursor()\n",
    "\n",
    "\n",
    "#TODO Remove them if columns already exist\n",
    "#insert_column(cursor, 'H1');\n",
    "#insert_column(cursor, 'H2');\n",
    "\n",
    "\n",
    "sql_select_query = \"SELECT * FROM tags\"\n",
    "\n",
    "\n",
    "cursor.execute(sql_select_query)\n",
    "records = cursor.fetchall();\n",
    "print(\"Row count: \", cursor.rowcount);\n",
    "print(\"**************************************************\");\n",
    "\n",
    "for row in records:\n",
    "    h1 = 'NULL' if row[3]==0 else (float(row[2]) / row[3])\n",
    "    h2 = float(row[2]) / 11130\n",
    "    \n",
    "    change_row_h1_h2(row[0], h1, h2);\n",
    "    \n",
    "    \n",
    "    #print(\"ID\", row[0], row[1], row[2], row[3], h1, h2)\n",
    "    \n",
    "print(\"**************************************************\");\n",
    "#mydb.commit() #to commit all updates (Note: Alter Table didn't require commit)\n",
    "\n",
    "\n",
    "\n",
    "\n",
    "\n",
    "    \n"
   ]
  },
  {
   "cell_type": "code",
   "execution_count": null,
   "metadata": {},
   "outputs": [],
   "source": []
  },
  {
   "cell_type": "code",
   "execution_count": null,
   "metadata": {},
   "outputs": [],
   "source": []
  }
 ],
 "metadata": {
  "kernelspec": {
   "display_name": "Python 3",
   "language": "python",
   "name": "python3"
  },
  "language_info": {
   "codemirror_mode": {
    "name": "ipython",
    "version": 3
   },
   "file_extension": ".py",
   "mimetype": "text/x-python",
   "name": "python",
   "nbconvert_exporter": "python",
   "pygments_lexer": "ipython3",
   "version": "3.7.4"
  }
 },
 "nbformat": 4,
 "nbformat_minor": 2
}
