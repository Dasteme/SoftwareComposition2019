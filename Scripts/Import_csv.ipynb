{
 "cells": [
  {
   "cell_type": "code",
   "execution_count": 16,
   "metadata": {
    "scrolled": false
   },
   "outputs": [
    {
     "name": "stdout",
     "output_type": "stream",
     "text": [
      "LOAD DATA LOCAL INFILE 'D:/Uni Bern/7. Semester/Software Composition/Github/SoftwareComposition2019/Stackoverflow_subposts_cleaned2/CRYPTOMAIN.csv' REPLACE INTO TABLE `CRYPTOMAIN` COLUMNS TERMINATED BY ',' ENCLOSED BY '\"' ESCAPED BY '\"' LINES TERMINATED BY '\n",
      "' IGNORE 1 LINES\n",
      "finished\n"
     ]
    }
   ],
   "source": [
    "import mysql.connector\n",
    "import matplotlib.pyplot as plt\n",
    "import matplotlib.patches as patches\n",
    "import numpy as np\n",
    "import glob\n",
    "import os\n",
    "\n",
    "\n",
    "importdatabase = 'software_comp_autotags3'\n",
    "csvdir = 'D:/Uni Bern/7. Semester/Software Composition/Github/SoftwareComposition2019/Stackoverflow_subposts_cleaned/*.csv'\n",
    "\n",
    "mydb = mysql.connector.connect(\n",
    "  host=\"localhost\",\n",
    "  user=\"root\",\n",
    "  passwd=\"\",\n",
    "  database=importdatabase,\n",
    "  allow_local_infile=True\n",
    ")\n",
    "\n",
    "cursor = mydb.cursor()\n",
    "\n",
    "csvs = glob.glob(csvdir)\n",
    "\n",
    "for csv in csvs:\n",
    "    file = csv.replace('\\\\', '/', 1)\n",
    "    tablename = os.path.basename(csv)[:-4]\n",
    "    sql_select_query = \"LOAD DATA LOCAL INFILE '\" + file + \"' REPLACE INTO TABLE `\" + tablename + \"` COLUMNS TERMINATED BY ',' ENCLOSED BY '\\\"' ESCAPED BY '\\\"' LINES TERMINATED BY '\\r\\n' IGNORE 1 LINES\"\n",
    "    print(sql_select_query)\n",
    "    sql_create_query = \"CREATE TABLE `\" + tablename + \"` (  `post_link` varchar(500) NOT NULL,  `title` varchar(500) NOT NULL,  `body_question` text NOT NULL,  `body_answer` text NOT NULL,  `viewcount` int(11) NOT NULL,  `tags` varchar(500) NOT NULL,  `score` int(11) NOT NULL,  `score_answer` int(11) NOT NULL,  `answercount` int(11) NOT NULL,  `LastActivityDate` datetime NOT NULL,  `AcceptedAnswerId` int(11) NOT NULL,  `CommentCount` int(11) NOT NULL,  `FavoriteCount` int(11) NOT NULL,  `LastEditorUserId` int(11) NOT NULL,  `LastEditorDisplayName` varchar(500) NOT NULL,  `LastEditDate` datetime NOT NULL,  `CreationDate` datetime NOT NULL,  `ClosedDate` datetime NOT NULL) ENGINE=InnoDB DEFAULT CHARSET=latin1;\"\n",
    "    \n",
    "    cursor.execute(sql_create_query)\n",
    "    cursor.execute(sql_select_query)\n",
    "    mydb.commit() #to commit all updates (Note: Alter Table didn't require commit)\n",
    "\n",
    "print('finished')\n",
    "\n",
    "\n",
    "# Only one file:\n",
    "'''\n",
    "if (tablename != \"CRYPTOMAIN\"):\n",
    "        continue\n",
    "'''\n"
   ]
  },
  {
   "cell_type": "code",
   "execution_count": null,
   "metadata": {},
   "outputs": [],
   "source": []
  },
  {
   "cell_type": "code",
   "execution_count": null,
   "metadata": {},
   "outputs": [],
   "source": []
  },
  {
   "cell_type": "code",
   "execution_count": null,
   "metadata": {},
   "outputs": [],
   "source": []
  },
  {
   "cell_type": "code",
   "execution_count": null,
   "metadata": {},
   "outputs": [],
   "source": []
  },
  {
   "cell_type": "code",
   "execution_count": null,
   "metadata": {},
   "outputs": [],
   "source": []
  },
  {
   "cell_type": "code",
   "execution_count": null,
   "metadata": {},
   "outputs": [],
   "source": []
  },
  {
   "cell_type": "code",
   "execution_count": null,
   "metadata": {},
   "outputs": [],
   "source": []
  }
 ],
 "metadata": {
  "kernelspec": {
   "display_name": "Python 3",
   "language": "python",
   "name": "python3"
  },
  "language_info": {
   "codemirror_mode": {
    "name": "ipython",
    "version": 3
   },
   "file_extension": ".py",
   "mimetype": "text/x-python",
   "name": "python",
   "nbconvert_exporter": "python",
   "pygments_lexer": "ipython3",
   "version": "3.7.4"
  }
 },
 "nbformat": 4,
 "nbformat_minor": 2
}
